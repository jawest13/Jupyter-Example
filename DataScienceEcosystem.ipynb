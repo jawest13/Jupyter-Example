{
 "cells": [
  {
   "attachments": {},
   "cell_type": "markdown",
   "id": "b57d6a83",
   "metadata": {},
   "source": [
    "<h1>Data Science Tools and Ecosystem</h1>"
   ]
  },
  {
   "cell_type": "markdown",
   "id": "7d38fab5",
   "metadata": {},
   "source": [
    "In this notebook, Data Science Tools and Ecosystem are summarized."
   ]
  },
  {
   "cell_type": "markdown",
   "id": "60a015ec",
   "metadata": {},
   "source": [
    "**Objectives:**\n",
    "- List Popular Data Science Languages\n",
    "- List Popular Data Science Libraries\n",
    "- List Popular Data Science Tools\n",
    "- Give Examples of Arithmeti Expression"
   ]
  },
  {
   "cell_type": "markdown",
   "id": "6c1149af",
   "metadata": {},
   "source": [
    "Some of the most popular Data Science languages are:\n",
    "\n",
    "1. Python\n",
    "2. R\n",
    "3. C++"
   ]
  },
  {
   "cell_type": "markdown",
   "id": "3bc1d71f",
   "metadata": {},
   "source": [
    "Some of the most popular Data Science libraries are:\n",
    "\n",
    "1. pandas\n",
    "2. tensorflow\n",
    "3. scikit-learn"
   ]
  },
  {
   "cell_type": "markdown",
   "id": "bf95a277",
   "metadata": {},
   "source": [
    "| Data Science Tools |\n",
    "|:------------------:|\n",
    "| Jupyter Notebook |\n",
    "| R Studio |\n",
    "| Git Hub |"
   ]
  },
  {
   "cell_type": "markdown",
   "id": "e4679f8b",
   "metadata": {},
   "source": [
    "<h3>Below are a few examples of evaluating arithmetic expressions in Python</h3>\n",
    "\n",
    "- x + y = a\n",
    "- x - y = b\n",
    "- x / y = c\n",
    "- x * y = d"
   ]
  },
  {
   "cell_type": "code",
   "execution_count": 1,
   "id": "599bde06",
   "metadata": {},
   "outputs": [
    {
     "name": "stdout",
     "output_type": "stream",
     "text": [
      "17\n"
     ]
    }
   ],
   "source": [
    "#This is a simple arithmetic expression to mutiply then add integers\n",
    "\n",
    "x = (3*4)+5\n",
    "\n",
    "print(x)"
   ]
  },
  {
   "cell_type": "code",
   "execution_count": 2,
   "id": "14e74fed",
   "metadata": {},
   "outputs": [
    {
     "name": "stdout",
     "output_type": "stream",
     "text": [
      "3.3333333333333335\n"
     ]
    }
   ],
   "source": [
    "#This will convert 200 minutes to hours by dividing by 60\n",
    "\n",
    "min = 200\n",
    "\n",
    "hour = 200/60\n",
    "\n",
    "print(hour)"
   ]
  },
  {
   "cell_type": "markdown",
   "id": "1baa498c",
   "metadata": {},
   "source": [
    "<h2>Author</h2>\n",
    "J. West"
   ]
  },
  {
   "cell_type": "code",
   "execution_count": null,
   "id": "2eba7c40",
   "metadata": {},
   "outputs": [],
   "source": []
  }
 ],
 "metadata": {
  "kernelspec": {
   "display_name": "Python 3 (ipykernel)",
   "language": "python",
   "name": "python3"
  },
  "language_info": {
   "codemirror_mode": {
    "name": "ipython",
    "version": 3
   },
   "file_extension": ".py",
   "mimetype": "text/x-python",
   "name": "python",
   "nbconvert_exporter": "python",
   "pygments_lexer": "ipython3",
   "version": "3.11.5"
  }
 },
 "nbformat": 4,
 "nbformat_minor": 5
}
